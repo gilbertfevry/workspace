{
 "cells": [
  {
   "cell_type": "code",
   "execution_count": 1,
   "metadata": {},
   "outputs": [],
   "source": [
    "import pandas as pd\n",
    "import numpy as np"
   ]
  },
  {
   "cell_type": "code",
   "execution_count": 2,
   "metadata": {},
   "outputs": [
    {
     "data": {
      "text/html": [
       "<div>\n",
       "<style scoped>\n",
       "    .dataframe tbody tr th:only-of-type {\n",
       "        vertical-align: middle;\n",
       "    }\n",
       "\n",
       "    .dataframe tbody tr th {\n",
       "        vertical-align: top;\n",
       "    }\n",
       "\n",
       "    .dataframe thead th {\n",
       "        text-align: right;\n",
       "    }\n",
       "</style>\n",
       "<table border=\"1\" class=\"dataframe\">\n",
       "  <thead>\n",
       "    <tr style=\"text-align: right;\">\n",
       "      <th></th>\n",
       "      <th>Purchase ID</th>\n",
       "      <th>SN</th>\n",
       "      <th>Age</th>\n",
       "      <th>Gender</th>\n",
       "      <th>Item ID</th>\n",
       "      <th>Item Name</th>\n",
       "      <th>Price</th>\n",
       "    </tr>\n",
       "  </thead>\n",
       "  <tbody>\n",
       "    <tr>\n",
       "      <td>0</td>\n",
       "      <td>0</td>\n",
       "      <td>Lisim78</td>\n",
       "      <td>20</td>\n",
       "      <td>Male</td>\n",
       "      <td>108</td>\n",
       "      <td>Extraction, Quickblade Of Trembling Hands</td>\n",
       "      <td>3.53</td>\n",
       "    </tr>\n",
       "    <tr>\n",
       "      <td>1</td>\n",
       "      <td>1</td>\n",
       "      <td>Lisovynya38</td>\n",
       "      <td>40</td>\n",
       "      <td>Male</td>\n",
       "      <td>143</td>\n",
       "      <td>Frenzied Scimitar</td>\n",
       "      <td>1.56</td>\n",
       "    </tr>\n",
       "    <tr>\n",
       "      <td>2</td>\n",
       "      <td>2</td>\n",
       "      <td>Ithergue48</td>\n",
       "      <td>24</td>\n",
       "      <td>Male</td>\n",
       "      <td>92</td>\n",
       "      <td>Final Critic</td>\n",
       "      <td>4.88</td>\n",
       "    </tr>\n",
       "    <tr>\n",
       "      <td>3</td>\n",
       "      <td>3</td>\n",
       "      <td>Chamassasya86</td>\n",
       "      <td>24</td>\n",
       "      <td>Male</td>\n",
       "      <td>100</td>\n",
       "      <td>Blindscythe</td>\n",
       "      <td>3.27</td>\n",
       "    </tr>\n",
       "    <tr>\n",
       "      <td>4</td>\n",
       "      <td>4</td>\n",
       "      <td>Iskosia90</td>\n",
       "      <td>23</td>\n",
       "      <td>Male</td>\n",
       "      <td>131</td>\n",
       "      <td>Fury</td>\n",
       "      <td>1.44</td>\n",
       "    </tr>\n",
       "  </tbody>\n",
       "</table>\n",
       "</div>"
      ],
      "text/plain": [
       "   Purchase ID             SN  Age Gender  Item ID  \\\n",
       "0            0        Lisim78   20   Male      108   \n",
       "1            1    Lisovynya38   40   Male      143   \n",
       "2            2     Ithergue48   24   Male       92   \n",
       "3            3  Chamassasya86   24   Male      100   \n",
       "4            4      Iskosia90   23   Male      131   \n",
       "\n",
       "                                   Item Name  Price  \n",
       "0  Extraction, Quickblade Of Trembling Hands   3.53  \n",
       "1                          Frenzied Scimitar   1.56  \n",
       "2                               Final Critic   4.88  \n",
       "3                                Blindscythe   3.27  \n",
       "4                                       Fury   1.44  "
      ]
     },
     "execution_count": 2,
     "metadata": {},
     "output_type": "execute_result"
    }
   ],
   "source": [
    "data_df = pd.read_csv(\"purchase_data.csv\")\n",
    "data_df.head()"
   ]
  },
  {
   "cell_type": "code",
   "execution_count": 3,
   "metadata": {},
   "outputs": [
    {
     "data": {
      "text/plain": [
       "576"
      ]
     },
     "execution_count": 3,
     "metadata": {},
     "output_type": "execute_result"
    }
   ],
   "source": [
    "\n",
    "total_players = len(data_df[\"SN\"].unique())\n",
    "total_players"
   ]
  },
  {
   "cell_type": "code",
   "execution_count": 4,
   "metadata": {},
   "outputs": [
    {
     "data": {
      "text/plain": [
       "179"
      ]
     },
     "execution_count": 4,
     "metadata": {},
     "output_type": "execute_result"
    }
   ],
   "source": [
    "# Purchasing Analysis\n",
    "unique_item = len(data_df[\"Item Name\"].unique())\n",
    "unique_item"
   ]
  },
  {
   "cell_type": "code",
   "execution_count": 5,
   "metadata": {},
   "outputs": [
    {
     "data": {
      "text/plain": [
       "3.05"
      ]
     },
     "execution_count": 5,
     "metadata": {},
     "output_type": "execute_result"
    }
   ],
   "source": [
    "average_price = data_df[\"Price\"].mean().round(2)\n",
    "average_price"
   ]
  },
  {
   "cell_type": "code",
   "execution_count": 6,
   "metadata": {},
   "outputs": [
    {
     "data": {
      "text/plain": [
       "780"
      ]
     },
     "execution_count": 6,
     "metadata": {},
     "output_type": "execute_result"
    }
   ],
   "source": [
    "total_purchase = len(data_df[\"Purchase ID\"].unique())\n",
    "total_purchase"
   ]
  },
  {
   "cell_type": "code",
   "execution_count": 7,
   "metadata": {},
   "outputs": [
    {
     "data": {
      "text/plain": [
       "2379.77"
      ]
     },
     "execution_count": 7,
     "metadata": {},
     "output_type": "execute_result"
    }
   ],
   "source": [
    "total_price = data_df[\"Price\"].sum()\n",
    "total_price"
   ]
  },
  {
   "cell_type": "code",
   "execution_count": 8,
   "metadata": {},
   "outputs": [],
   "source": [
    "data_summary = {\"Number of Unique Items\":[\"576\"],\n",
    "                             \"Average Price\":[3.05],\n",
    "                             \"Number of Purchases\": [780], \"Total Revenue\":[2379.77]}"
   ]
  },
  {
   "cell_type": "code",
   "execution_count": 9,
   "metadata": {},
   "outputs": [
    {
     "data": {
      "text/html": [
       "<style  type=\"text/css\" >\n",
       "</style><table id=\"T_f26a6400_f8bb_11e9_85d4_a0510b7c6987\" ><thead>    <tr>        <th class=\"blank level0\" ></th>        <th class=\"col_heading level0 col0\" >Number of Unique Items</th>        <th class=\"col_heading level0 col1\" >Average Price</th>        <th class=\"col_heading level0 col2\" >Number of Purchases</th>        <th class=\"col_heading level0 col3\" >Total Revenue</th>    </tr></thead><tbody>\n",
       "                <tr>\n",
       "                        <th id=\"T_f26a6400_f8bb_11e9_85d4_a0510b7c6987level0_row0\" class=\"row_heading level0 row0\" >0</th>\n",
       "                        <td id=\"T_f26a6400_f8bb_11e9_85d4_a0510b7c6987row0_col0\" class=\"data row0 col0\" >576</td>\n",
       "                        <td id=\"T_f26a6400_f8bb_11e9_85d4_a0510b7c6987row0_col1\" class=\"data row0 col1\" >$3.05</td>\n",
       "                        <td id=\"T_f26a6400_f8bb_11e9_85d4_a0510b7c6987row0_col2\" class=\"data row0 col2\" >780</td>\n",
       "                        <td id=\"T_f26a6400_f8bb_11e9_85d4_a0510b7c6987row0_col3\" class=\"data row0 col3\" >$2,379.77</td>\n",
       "            </tr>\n",
       "    </tbody></table>"
      ],
      "text/plain": [
       "<pandas.io.formats.style.Styler at 0x226ee8bbe48>"
      ]
     },
     "execution_count": 9,
     "metadata": {},
     "output_type": "execute_result"
    }
   ],
   "source": [
    "data_summary_df = pd.DataFrame(data_summary)\n",
    "data_summary_df\n",
    "data_summary_df.style.format({\"Average Price\": \"${:,.2f}\", \"Total Revenue\": \"${:,.2f}\"})"
   ]
  },
  {
   "cell_type": "code",
   "execution_count": 10,
   "metadata": {},
   "outputs": [
    {
     "data": {
      "text/html": [
       "<style  type=\"text/css\" >\n",
       "</style><table id=\"T_f26e6538_f8bb_11e9_89c7_a0510b7c6987\" ><thead>    <tr>        <th class=\"blank level0\" ></th>        <th class=\"col_heading level0 col0\" >Total Count</th>        <th class=\"col_heading level0 col1\" >Percentage of Players</th>    </tr>    <tr>        <th class=\"index_name level0\" >Gender</th>        <th class=\"blank\" ></th>        <th class=\"blank\" ></th>    </tr></thead><tbody>\n",
       "                <tr>\n",
       "                        <th id=\"T_f26e6538_f8bb_11e9_89c7_a0510b7c6987level0_row0\" class=\"row_heading level0 row0\" >Female</th>\n",
       "                        <td id=\"T_f26e6538_f8bb_11e9_89c7_a0510b7c6987row0_col0\" class=\"data row0 col0\" >81</td>\n",
       "                        <td id=\"T_f26e6538_f8bb_11e9_89c7_a0510b7c6987row0_col1\" class=\"data row0 col1\" >14.06%</td>\n",
       "            </tr>\n",
       "            <tr>\n",
       "                        <th id=\"T_f26e6538_f8bb_11e9_89c7_a0510b7c6987level0_row1\" class=\"row_heading level0 row1\" >Male</th>\n",
       "                        <td id=\"T_f26e6538_f8bb_11e9_89c7_a0510b7c6987row1_col0\" class=\"data row1 col0\" >484</td>\n",
       "                        <td id=\"T_f26e6538_f8bb_11e9_89c7_a0510b7c6987row1_col1\" class=\"data row1 col1\" >84.03%</td>\n",
       "            </tr>\n",
       "            <tr>\n",
       "                        <th id=\"T_f26e6538_f8bb_11e9_89c7_a0510b7c6987level0_row2\" class=\"row_heading level0 row2\" >Other / Non-Disclosed</th>\n",
       "                        <td id=\"T_f26e6538_f8bb_11e9_89c7_a0510b7c6987row2_col0\" class=\"data row2 col0\" >11</td>\n",
       "                        <td id=\"T_f26e6538_f8bb_11e9_89c7_a0510b7c6987row2_col1\" class=\"data row2 col1\" >1.91%</td>\n",
       "            </tr>\n",
       "    </tbody></table>"
      ],
      "text/plain": [
       "<pandas.io.formats.style.Styler at 0x226eefef7f0>"
      ]
     },
     "execution_count": 10,
     "metadata": {},
     "output_type": "execute_result"
    }
   ],
   "source": [
    "# Gender Demographics\n",
    "groupbygender = data_df.groupby(\"Gender\")\n",
    "total_gender_count = groupbygender.nunique()[\"SN\"]\n",
    "percentage_of_players = round(total_gender_count/total_players * 100, 2)\n",
    "gender_df = pd.DataFrame({ \"Total Count\":total_gender_count, \"Percentage of Players\": percentage_of_players})\n",
    "gender_df\n",
    "gender_df.style.format({\"Percentage of Players\": \"{:,.2f}%\"})"
   ]
  },
  {
   "cell_type": "code",
   "execution_count": 11,
   "metadata": {},
   "outputs": [
    {
     "data": {
      "text/plain": [
       "Gender\n",
       "Female                   113\n",
       "Male                     652\n",
       "Other / Non-Disclosed     15\n",
       "Name: Purchase ID, dtype: int64"
      ]
     },
     "execution_count": 11,
     "metadata": {},
     "output_type": "execute_result"
    }
   ],
   "source": [
    "#  Purchasing Analysis (Gender)\n",
    "purchase_count = groupbygender[\"Purchase ID\"].count()\n",
    "purchase_count "
   ]
  },
  {
   "cell_type": "code",
   "execution_count": 12,
   "metadata": {},
   "outputs": [
    {
     "data": {
      "text/plain": [
       "Gender\n",
       "Female                   3.20\n",
       "Male                     3.02\n",
       "Other / Non-Disclosed    3.35\n",
       "Name: Price, dtype: float64"
      ]
     },
     "execution_count": 12,
     "metadata": {},
     "output_type": "execute_result"
    }
   ],
   "source": [
    "avg_purchaseprice = round(groupbygender[\"Price\"].mean(), 2)\n",
    "avg_purchaseprice \n"
   ]
  },
  {
   "cell_type": "code",
   "execution_count": 13,
   "metadata": {},
   "outputs": [
    {
     "data": {
      "text/plain": [
       "Gender\n",
       "Female                    361.94\n",
       "Male                     1967.64\n",
       "Other / Non-Disclosed      50.19\n",
       "Name: Price, dtype: float64"
      ]
     },
     "execution_count": 13,
     "metadata": {},
     "output_type": "execute_result"
    }
   ],
   "source": [
    "total_purchase = groupbygender[\"Price\"].sum()\n",
    "total_purchase \n"
   ]
  },
  {
   "cell_type": "code",
   "execution_count": 14,
   "metadata": {},
   "outputs": [
    {
     "data": {
      "text/plain": [
       "Gender\n",
       "Female                   4.47\n",
       "Male                     4.07\n",
       "Other / Non-Disclosed    4.56\n",
       "dtype: float64"
      ]
     },
     "execution_count": 14,
     "metadata": {},
     "output_type": "execute_result"
    }
   ],
   "source": [
    "avgpurchase_total = round(total_purchase / total_gender_count, 2)\n",
    "avgpurchase_total \n"
   ]
  },
  {
   "cell_type": "code",
   "execution_count": 15,
   "metadata": {},
   "outputs": [
    {
     "data": {
      "text/html": [
       "<style  type=\"text/css\" >\n",
       "</style><table id=\"T_f278bc10_f8bb_11e9_bbeb_a0510b7c6987\" ><thead>    <tr>        <th class=\"blank level0\" ></th>        <th class=\"col_heading level0 col0\" >Purchase Count</th>        <th class=\"col_heading level0 col1\" >Average Purchase Price</th>        <th class=\"col_heading level0 col2\" >Total Purchase Value</th>        <th class=\"col_heading level0 col3\" >Average Total Purchase per Person</th>    </tr>    <tr>        <th class=\"index_name level0\" >Gender</th>        <th class=\"blank\" ></th>        <th class=\"blank\" ></th>        <th class=\"blank\" ></th>        <th class=\"blank\" ></th>    </tr></thead><tbody>\n",
       "                <tr>\n",
       "                        <th id=\"T_f278bc10_f8bb_11e9_bbeb_a0510b7c6987level0_row0\" class=\"row_heading level0 row0\" >Female</th>\n",
       "                        <td id=\"T_f278bc10_f8bb_11e9_bbeb_a0510b7c6987row0_col0\" class=\"data row0 col0\" >113</td>\n",
       "                        <td id=\"T_f278bc10_f8bb_11e9_bbeb_a0510b7c6987row0_col1\" class=\"data row0 col1\" >$3.20</td>\n",
       "                        <td id=\"T_f278bc10_f8bb_11e9_bbeb_a0510b7c6987row0_col2\" class=\"data row0 col2\" >$361.94</td>\n",
       "                        <td id=\"T_f278bc10_f8bb_11e9_bbeb_a0510b7c6987row0_col3\" class=\"data row0 col3\" >$4.47</td>\n",
       "            </tr>\n",
       "            <tr>\n",
       "                        <th id=\"T_f278bc10_f8bb_11e9_bbeb_a0510b7c6987level0_row1\" class=\"row_heading level0 row1\" >Male</th>\n",
       "                        <td id=\"T_f278bc10_f8bb_11e9_bbeb_a0510b7c6987row1_col0\" class=\"data row1 col0\" >652</td>\n",
       "                        <td id=\"T_f278bc10_f8bb_11e9_bbeb_a0510b7c6987row1_col1\" class=\"data row1 col1\" >$3.02</td>\n",
       "                        <td id=\"T_f278bc10_f8bb_11e9_bbeb_a0510b7c6987row1_col2\" class=\"data row1 col2\" >$1,967.64</td>\n",
       "                        <td id=\"T_f278bc10_f8bb_11e9_bbeb_a0510b7c6987row1_col3\" class=\"data row1 col3\" >$4.07</td>\n",
       "            </tr>\n",
       "            <tr>\n",
       "                        <th id=\"T_f278bc10_f8bb_11e9_bbeb_a0510b7c6987level0_row2\" class=\"row_heading level0 row2\" >Other / Non-Disclosed</th>\n",
       "                        <td id=\"T_f278bc10_f8bb_11e9_bbeb_a0510b7c6987row2_col0\" class=\"data row2 col0\" >15</td>\n",
       "                        <td id=\"T_f278bc10_f8bb_11e9_bbeb_a0510b7c6987row2_col1\" class=\"data row2 col1\" >$3.35</td>\n",
       "                        <td id=\"T_f278bc10_f8bb_11e9_bbeb_a0510b7c6987row2_col2\" class=\"data row2 col2\" >$50.19</td>\n",
       "                        <td id=\"T_f278bc10_f8bb_11e9_bbeb_a0510b7c6987row2_col3\" class=\"data row2 col3\" >$4.56</td>\n",
       "            </tr>\n",
       "    </tbody></table>"
      ],
      "text/plain": [
       "<pandas.io.formats.style.Styler at 0x226ef023cc0>"
      ]
     },
     "execution_count": 15,
     "metadata": {},
     "output_type": "execute_result"
    }
   ],
   "source": [
    "df_analysis = pd.DataFrame({\"Purchase Count\": purchase_count, \"Average Purchase Price\": avg_purchaseprice,\n",
    "                 \"Total Purchase Value\": total_purchase, \"Average Total Purchase per Person\": avgpurchase_total})\n",
    "\n",
    "df_analysis.style.format({\"Average Purchase Price\": \"${:,.2f}\", \"Total Purchase Value\": \"${:,.2f}\",\n",
    "                        \"Average Total Purchase per Person\": '${:,.2f}'})"
   ]
  },
  {
   "cell_type": "code",
   "execution_count": 16,
   "metadata": {},
   "outputs": [],
   "source": [
    "# Age Demographics\n",
    "bins = [0, 9, 14, 19, 24, 29, 34, 39, 100]\n",
    "group_names = [\"<10\", \"10-14\", \"15-19\", \"20-24\",\"25-29\",\"30-34\",\"35-39\",\"40+\"]"
   ]
  },
  {
   "cell_type": "code",
   "execution_count": 17,
   "metadata": {},
   "outputs": [
    {
     "data": {
      "text/html": [
       "<style  type=\"text/css\" >\n",
       "</style><table id=\"T_f27cd61a_f8bb_11e9_8ffc_a0510b7c6987\" ><thead>    <tr>        <th class=\"blank level0\" ></th>        <th class=\"col_heading level0 col0\" >Total Count</th>        <th class=\"col_heading level0 col1\" >Percentage of Players</th>    </tr>    <tr>        <th class=\"index_name level0\" >Age Group</th>        <th class=\"blank\" ></th>        <th class=\"blank\" ></th>    </tr></thead><tbody>\n",
       "                <tr>\n",
       "                        <th id=\"T_f27cd61a_f8bb_11e9_8ffc_a0510b7c6987level0_row0\" class=\"row_heading level0 row0\" ><10</th>\n",
       "                        <td id=\"T_f27cd61a_f8bb_11e9_8ffc_a0510b7c6987row0_col0\" class=\"data row0 col0\" >17</td>\n",
       "                        <td id=\"T_f27cd61a_f8bb_11e9_8ffc_a0510b7c6987row0_col1\" class=\"data row0 col1\" >2.95%</td>\n",
       "            </tr>\n",
       "            <tr>\n",
       "                        <th id=\"T_f27cd61a_f8bb_11e9_8ffc_a0510b7c6987level0_row1\" class=\"row_heading level0 row1\" >10-14</th>\n",
       "                        <td id=\"T_f27cd61a_f8bb_11e9_8ffc_a0510b7c6987row1_col0\" class=\"data row1 col0\" >22</td>\n",
       "                        <td id=\"T_f27cd61a_f8bb_11e9_8ffc_a0510b7c6987row1_col1\" class=\"data row1 col1\" >3.82%</td>\n",
       "            </tr>\n",
       "            <tr>\n",
       "                        <th id=\"T_f27cd61a_f8bb_11e9_8ffc_a0510b7c6987level0_row2\" class=\"row_heading level0 row2\" >15-19</th>\n",
       "                        <td id=\"T_f27cd61a_f8bb_11e9_8ffc_a0510b7c6987row2_col0\" class=\"data row2 col0\" >107</td>\n",
       "                        <td id=\"T_f27cd61a_f8bb_11e9_8ffc_a0510b7c6987row2_col1\" class=\"data row2 col1\" >18.58%</td>\n",
       "            </tr>\n",
       "            <tr>\n",
       "                        <th id=\"T_f27cd61a_f8bb_11e9_8ffc_a0510b7c6987level0_row3\" class=\"row_heading level0 row3\" >20-24</th>\n",
       "                        <td id=\"T_f27cd61a_f8bb_11e9_8ffc_a0510b7c6987row3_col0\" class=\"data row3 col0\" >258</td>\n",
       "                        <td id=\"T_f27cd61a_f8bb_11e9_8ffc_a0510b7c6987row3_col1\" class=\"data row3 col1\" >44.79%</td>\n",
       "            </tr>\n",
       "            <tr>\n",
       "                        <th id=\"T_f27cd61a_f8bb_11e9_8ffc_a0510b7c6987level0_row4\" class=\"row_heading level0 row4\" >25-29</th>\n",
       "                        <td id=\"T_f27cd61a_f8bb_11e9_8ffc_a0510b7c6987row4_col0\" class=\"data row4 col0\" >77</td>\n",
       "                        <td id=\"T_f27cd61a_f8bb_11e9_8ffc_a0510b7c6987row4_col1\" class=\"data row4 col1\" >13.37%</td>\n",
       "            </tr>\n",
       "            <tr>\n",
       "                        <th id=\"T_f27cd61a_f8bb_11e9_8ffc_a0510b7c6987level0_row5\" class=\"row_heading level0 row5\" >30-34</th>\n",
       "                        <td id=\"T_f27cd61a_f8bb_11e9_8ffc_a0510b7c6987row5_col0\" class=\"data row5 col0\" >52</td>\n",
       "                        <td id=\"T_f27cd61a_f8bb_11e9_8ffc_a0510b7c6987row5_col1\" class=\"data row5 col1\" >9.03%</td>\n",
       "            </tr>\n",
       "            <tr>\n",
       "                        <th id=\"T_f27cd61a_f8bb_11e9_8ffc_a0510b7c6987level0_row6\" class=\"row_heading level0 row6\" >35-39</th>\n",
       "                        <td id=\"T_f27cd61a_f8bb_11e9_8ffc_a0510b7c6987row6_col0\" class=\"data row6 col0\" >31</td>\n",
       "                        <td id=\"T_f27cd61a_f8bb_11e9_8ffc_a0510b7c6987row6_col1\" class=\"data row6 col1\" >5.38%</td>\n",
       "            </tr>\n",
       "            <tr>\n",
       "                        <th id=\"T_f27cd61a_f8bb_11e9_8ffc_a0510b7c6987level0_row7\" class=\"row_heading level0 row7\" >40+</th>\n",
       "                        <td id=\"T_f27cd61a_f8bb_11e9_8ffc_a0510b7c6987row7_col0\" class=\"data row7 col0\" >12</td>\n",
       "                        <td id=\"T_f27cd61a_f8bb_11e9_8ffc_a0510b7c6987row7_col1\" class=\"data row7 col1\" >2.08%</td>\n",
       "            </tr>\n",
       "    </tbody></table>"
      ],
      "text/plain": [
       "<pandas.io.formats.style.Styler at 0x226ee8c32e8>"
      ]
     },
     "execution_count": 17,
     "metadata": {},
     "output_type": "execute_result"
    }
   ],
   "source": [
    "data_df[\"Age Group\"] = pd.cut(data_df[\"Age\"],bins, labels=group_names)\n",
    "data_df\n",
    "agegrouped = data_df.groupby(\"Age Group\")\n",
    "total_count = agegrouped[\"SN\"].nunique()\n",
    "percent_players = round((total_count/ total_players) *100, 2)\n",
    "df_age = pd.DataFrame({\"Total Count\":total_count, \"Percentage of Players\": percent_players})\n",
    "df_age\n",
    "df_age.style.format({\"Percentage of Players\": \"{:,.2f}%\"})"
   ]
  },
  {
   "cell_type": "code",
   "execution_count": 18,
   "metadata": {},
   "outputs": [
    {
     "data": {
      "text/html": [
       "<style  type=\"text/css\" >\n",
       "</style><table id=\"T_f27e8d1e_f8bb_11e9_82ba_a0510b7c6987\" ><thead>    <tr>        <th class=\"blank level0\" ></th>        <th class=\"col_heading level0 col0\" >Purchase Count</th>        <th class=\"col_heading level0 col1\" >Avg Purchase Price</th>        <th class=\"col_heading level0 col2\" >Total Purchase Value</th>        <th class=\"col_heading level0 col3\" >Avg Total Purchase per Person</th>    </tr>    <tr>        <th class=\"index_name level0\" >Age Group</th>        <th class=\"blank\" ></th>        <th class=\"blank\" ></th>        <th class=\"blank\" ></th>        <th class=\"blank\" ></th>    </tr></thead><tbody>\n",
       "                <tr>\n",
       "                        <th id=\"T_f27e8d1e_f8bb_11e9_82ba_a0510b7c6987level0_row0\" class=\"row_heading level0 row0\" ><10</th>\n",
       "                        <td id=\"T_f27e8d1e_f8bb_11e9_82ba_a0510b7c6987row0_col0\" class=\"data row0 col0\" >23</td>\n",
       "                        <td id=\"T_f27e8d1e_f8bb_11e9_82ba_a0510b7c6987row0_col1\" class=\"data row0 col1\" >$3.35</td>\n",
       "                        <td id=\"T_f27e8d1e_f8bb_11e9_82ba_a0510b7c6987row0_col2\" class=\"data row0 col2\" >$77.13</td>\n",
       "                        <td id=\"T_f27e8d1e_f8bb_11e9_82ba_a0510b7c6987row0_col3\" class=\"data row0 col3\" >$4.54</td>\n",
       "            </tr>\n",
       "            <tr>\n",
       "                        <th id=\"T_f27e8d1e_f8bb_11e9_82ba_a0510b7c6987level0_row1\" class=\"row_heading level0 row1\" >10-14</th>\n",
       "                        <td id=\"T_f27e8d1e_f8bb_11e9_82ba_a0510b7c6987row1_col0\" class=\"data row1 col0\" >28</td>\n",
       "                        <td id=\"T_f27e8d1e_f8bb_11e9_82ba_a0510b7c6987row1_col1\" class=\"data row1 col1\" >$2.96</td>\n",
       "                        <td id=\"T_f27e8d1e_f8bb_11e9_82ba_a0510b7c6987row1_col2\" class=\"data row1 col2\" >$82.78</td>\n",
       "                        <td id=\"T_f27e8d1e_f8bb_11e9_82ba_a0510b7c6987row1_col3\" class=\"data row1 col3\" >$3.76</td>\n",
       "            </tr>\n",
       "            <tr>\n",
       "                        <th id=\"T_f27e8d1e_f8bb_11e9_82ba_a0510b7c6987level0_row2\" class=\"row_heading level0 row2\" >15-19</th>\n",
       "                        <td id=\"T_f27e8d1e_f8bb_11e9_82ba_a0510b7c6987row2_col0\" class=\"data row2 col0\" >136</td>\n",
       "                        <td id=\"T_f27e8d1e_f8bb_11e9_82ba_a0510b7c6987row2_col1\" class=\"data row2 col1\" >$3.04</td>\n",
       "                        <td id=\"T_f27e8d1e_f8bb_11e9_82ba_a0510b7c6987row2_col2\" class=\"data row2 col2\" >$412.89</td>\n",
       "                        <td id=\"T_f27e8d1e_f8bb_11e9_82ba_a0510b7c6987row2_col3\" class=\"data row2 col3\" >$3.86</td>\n",
       "            </tr>\n",
       "            <tr>\n",
       "                        <th id=\"T_f27e8d1e_f8bb_11e9_82ba_a0510b7c6987level0_row3\" class=\"row_heading level0 row3\" >20-24</th>\n",
       "                        <td id=\"T_f27e8d1e_f8bb_11e9_82ba_a0510b7c6987row3_col0\" class=\"data row3 col0\" >365</td>\n",
       "                        <td id=\"T_f27e8d1e_f8bb_11e9_82ba_a0510b7c6987row3_col1\" class=\"data row3 col1\" >$3.05</td>\n",
       "                        <td id=\"T_f27e8d1e_f8bb_11e9_82ba_a0510b7c6987row3_col2\" class=\"data row3 col2\" >$1,114.06</td>\n",
       "                        <td id=\"T_f27e8d1e_f8bb_11e9_82ba_a0510b7c6987row3_col3\" class=\"data row3 col3\" >$4.32</td>\n",
       "            </tr>\n",
       "            <tr>\n",
       "                        <th id=\"T_f27e8d1e_f8bb_11e9_82ba_a0510b7c6987level0_row4\" class=\"row_heading level0 row4\" >25-29</th>\n",
       "                        <td id=\"T_f27e8d1e_f8bb_11e9_82ba_a0510b7c6987row4_col0\" class=\"data row4 col0\" >101</td>\n",
       "                        <td id=\"T_f27e8d1e_f8bb_11e9_82ba_a0510b7c6987row4_col1\" class=\"data row4 col1\" >$2.90</td>\n",
       "                        <td id=\"T_f27e8d1e_f8bb_11e9_82ba_a0510b7c6987row4_col2\" class=\"data row4 col2\" >$293.00</td>\n",
       "                        <td id=\"T_f27e8d1e_f8bb_11e9_82ba_a0510b7c6987row4_col3\" class=\"data row4 col3\" >$3.81</td>\n",
       "            </tr>\n",
       "            <tr>\n",
       "                        <th id=\"T_f27e8d1e_f8bb_11e9_82ba_a0510b7c6987level0_row5\" class=\"row_heading level0 row5\" >30-34</th>\n",
       "                        <td id=\"T_f27e8d1e_f8bb_11e9_82ba_a0510b7c6987row5_col0\" class=\"data row5 col0\" >73</td>\n",
       "                        <td id=\"T_f27e8d1e_f8bb_11e9_82ba_a0510b7c6987row5_col1\" class=\"data row5 col1\" >$2.93</td>\n",
       "                        <td id=\"T_f27e8d1e_f8bb_11e9_82ba_a0510b7c6987row5_col2\" class=\"data row5 col2\" >$214.00</td>\n",
       "                        <td id=\"T_f27e8d1e_f8bb_11e9_82ba_a0510b7c6987row5_col3\" class=\"data row5 col3\" >$4.12</td>\n",
       "            </tr>\n",
       "            <tr>\n",
       "                        <th id=\"T_f27e8d1e_f8bb_11e9_82ba_a0510b7c6987level0_row6\" class=\"row_heading level0 row6\" >35-39</th>\n",
       "                        <td id=\"T_f27e8d1e_f8bb_11e9_82ba_a0510b7c6987row6_col0\" class=\"data row6 col0\" >41</td>\n",
       "                        <td id=\"T_f27e8d1e_f8bb_11e9_82ba_a0510b7c6987row6_col1\" class=\"data row6 col1\" >$3.60</td>\n",
       "                        <td id=\"T_f27e8d1e_f8bb_11e9_82ba_a0510b7c6987row6_col2\" class=\"data row6 col2\" >$147.67</td>\n",
       "                        <td id=\"T_f27e8d1e_f8bb_11e9_82ba_a0510b7c6987row6_col3\" class=\"data row6 col3\" >$4.76</td>\n",
       "            </tr>\n",
       "            <tr>\n",
       "                        <th id=\"T_f27e8d1e_f8bb_11e9_82ba_a0510b7c6987level0_row7\" class=\"row_heading level0 row7\" >40+</th>\n",
       "                        <td id=\"T_f27e8d1e_f8bb_11e9_82ba_a0510b7c6987row7_col0\" class=\"data row7 col0\" >13</td>\n",
       "                        <td id=\"T_f27e8d1e_f8bb_11e9_82ba_a0510b7c6987row7_col1\" class=\"data row7 col1\" >$2.94</td>\n",
       "                        <td id=\"T_f27e8d1e_f8bb_11e9_82ba_a0510b7c6987row7_col2\" class=\"data row7 col2\" >$38.24</td>\n",
       "                        <td id=\"T_f27e8d1e_f8bb_11e9_82ba_a0510b7c6987row7_col3\" class=\"data row7 col3\" >$3.19</td>\n",
       "            </tr>\n",
       "    </tbody></table>"
      ],
      "text/plain": [
       "<pandas.io.formats.style.Styler at 0x226ee8c3e10>"
      ]
     },
     "execution_count": 18,
     "metadata": {},
     "output_type": "execute_result"
    }
   ],
   "source": [
    "# Purchasing Analysis (Age)\n",
    "count_purchase = agegrouped[\"Purchase ID\"].count() \n",
    "avg_price = round(agegrouped[\"Price\"].mean(), 2)\n",
    "total_price = agegrouped[\"Price\"].sum()\n",
    "avg_perperson = round(total_price / total_count, 2)\n",
    "\n",
    "df_age_summury = pd.DataFrame({\"Purchase Count\": count_purchase, \"Avg Purchase Price\": avg_price,\n",
    "                               \"Total Purchase Value\": total_price, \"Avg Total Purchase per Person\": avg_perperson})\n",
    "df_age_summury\n",
    "df_age_summury.style.format({\"Avg Purchase Price\": \"${:,.2f}\", \"Total Purchase Value\": \"${:,.2f}\",\n",
    "                             \"Avg Total Purchase per Person\": '${:,.2f}'})\n"
   ]
  },
  {
   "cell_type": "code",
   "execution_count": 19,
   "metadata": {},
   "outputs": [
    {
     "data": {
      "text/html": [
       "<style  type=\"text/css\" >\n",
       "</style><table id=\"T_f2843dd4_f8bb_11e9_84dd_a0510b7c6987\" ><thead>    <tr>        <th class=\"blank level0\" ></th>        <th class=\"col_heading level0 col0\" >Purchase Count</th>        <th class=\"col_heading level0 col1\" >Average Purchase Price</th>        <th class=\"col_heading level0 col2\" >Total Purchase Value</th>    </tr></thead><tbody>\n",
       "                <tr>\n",
       "                        <th id=\"T_f2843dd4_f8bb_11e9_84dd_a0510b7c6987level0_row0\" class=\"row_heading level0 row0\" >Lisosia93</th>\n",
       "                        <td id=\"T_f2843dd4_f8bb_11e9_84dd_a0510b7c6987row0_col0\" class=\"data row0 col0\" >5</td>\n",
       "                        <td id=\"T_f2843dd4_f8bb_11e9_84dd_a0510b7c6987row0_col1\" class=\"data row0 col1\" >$3.79</td>\n",
       "                        <td id=\"T_f2843dd4_f8bb_11e9_84dd_a0510b7c6987row0_col2\" class=\"data row0 col2\" >$18.96</td>\n",
       "            </tr>\n",
       "            <tr>\n",
       "                        <th id=\"T_f2843dd4_f8bb_11e9_84dd_a0510b7c6987level0_row1\" class=\"row_heading level0 row1\" >Idastidru52</th>\n",
       "                        <td id=\"T_f2843dd4_f8bb_11e9_84dd_a0510b7c6987row1_col0\" class=\"data row1 col0\" >4</td>\n",
       "                        <td id=\"T_f2843dd4_f8bb_11e9_84dd_a0510b7c6987row1_col1\" class=\"data row1 col1\" >$3.86</td>\n",
       "                        <td id=\"T_f2843dd4_f8bb_11e9_84dd_a0510b7c6987row1_col2\" class=\"data row1 col2\" >$15.45</td>\n",
       "            </tr>\n",
       "            <tr>\n",
       "                        <th id=\"T_f2843dd4_f8bb_11e9_84dd_a0510b7c6987level0_row2\" class=\"row_heading level0 row2\" >Chamjask73</th>\n",
       "                        <td id=\"T_f2843dd4_f8bb_11e9_84dd_a0510b7c6987row2_col0\" class=\"data row2 col0\" >3</td>\n",
       "                        <td id=\"T_f2843dd4_f8bb_11e9_84dd_a0510b7c6987row2_col1\" class=\"data row2 col1\" >$4.61</td>\n",
       "                        <td id=\"T_f2843dd4_f8bb_11e9_84dd_a0510b7c6987row2_col2\" class=\"data row2 col2\" >$13.83</td>\n",
       "            </tr>\n",
       "            <tr>\n",
       "                        <th id=\"T_f2843dd4_f8bb_11e9_84dd_a0510b7c6987level0_row3\" class=\"row_heading level0 row3\" >Iral74</th>\n",
       "                        <td id=\"T_f2843dd4_f8bb_11e9_84dd_a0510b7c6987row3_col0\" class=\"data row3 col0\" >4</td>\n",
       "                        <td id=\"T_f2843dd4_f8bb_11e9_84dd_a0510b7c6987row3_col1\" class=\"data row3 col1\" >$3.40</td>\n",
       "                        <td id=\"T_f2843dd4_f8bb_11e9_84dd_a0510b7c6987row3_col2\" class=\"data row3 col2\" >$13.62</td>\n",
       "            </tr>\n",
       "            <tr>\n",
       "                        <th id=\"T_f2843dd4_f8bb_11e9_84dd_a0510b7c6987level0_row4\" class=\"row_heading level0 row4\" >Iskadarya95</th>\n",
       "                        <td id=\"T_f2843dd4_f8bb_11e9_84dd_a0510b7c6987row4_col0\" class=\"data row4 col0\" >3</td>\n",
       "                        <td id=\"T_f2843dd4_f8bb_11e9_84dd_a0510b7c6987row4_col1\" class=\"data row4 col1\" >$4.37</td>\n",
       "                        <td id=\"T_f2843dd4_f8bb_11e9_84dd_a0510b7c6987row4_col2\" class=\"data row4 col2\" >$13.10</td>\n",
       "            </tr>\n",
       "    </tbody></table>"
      ],
      "text/plain": [
       "<pandas.io.formats.style.Styler at 0x226ef047400>"
      ]
     },
     "execution_count": 19,
     "metadata": {},
     "output_type": "execute_result"
    }
   ],
   "source": [
    "#Top Spenders\n",
    "purchase_count = data_df[\"SN\"].value_counts()\n",
    "grouped_SN =  data_df.groupby(\"SN\")\n",
    "average_price = round(grouped_SN[\"Price\"].mean(), 2)\n",
    "total_purchase = grouped_SN[\"Price\"].sum()\n",
    "\n",
    "SN_df = pd.DataFrame({\"Purchase Count\": purchase_count,\n",
    "                     \"Average Purchase Price\": average_price,\n",
    "                     \"Total Purchase Value\": total_purchase})\n",
    "\n",
    "spenders_df= SN_df.sort_values(\"Total Purchase Value\", ascending=False)\n",
    "\n",
    "spenders_df.head().style.format({\"Average Purchase Price\": \"${:,.2f}\",\n",
    "                        \"Total Purchase Value\": \"${:,.2f}\"})\n"
   ]
  },
  {
   "cell_type": "code",
   "execution_count": 20,
   "metadata": {},
   "outputs": [
    {
     "data": {
      "text/html": [
       "<style  type=\"text/css\" >\n",
       "</style><table id=\"T_f287dd52_f8bb_11e9_804d_a0510b7c6987\" ><thead>    <tr>        <th class=\"blank\" ></th>        <th class=\"blank level0\" ></th>        <th class=\"col_heading level0 col0\" >Purchase Count</th>        <th class=\"col_heading level0 col1\" >Item Price</th>        <th class=\"col_heading level0 col2\" >Total Purchase Value</th>    </tr>    <tr>        <th class=\"index_name level0\" >Item ID</th>        <th class=\"index_name level1\" >Item Name</th>        <th class=\"blank\" ></th>        <th class=\"blank\" ></th>        <th class=\"blank\" ></th>    </tr></thead><tbody>\n",
       "                <tr>\n",
       "                        <th id=\"T_f287dd52_f8bb_11e9_804d_a0510b7c6987level0_row0\" class=\"row_heading level0 row0\" >178</th>\n",
       "                        <th id=\"T_f287dd52_f8bb_11e9_804d_a0510b7c6987level1_row0\" class=\"row_heading level1 row0\" >Oathbreaker, Last Hope of the Breaking Storm</th>\n",
       "                        <td id=\"T_f287dd52_f8bb_11e9_804d_a0510b7c6987row0_col0\" class=\"data row0 col0\" >12</td>\n",
       "                        <td id=\"T_f287dd52_f8bb_11e9_804d_a0510b7c6987row0_col1\" class=\"data row0 col1\" >$4.23</td>\n",
       "                        <td id=\"T_f287dd52_f8bb_11e9_804d_a0510b7c6987row0_col2\" class=\"data row0 col2\" >$50.76</td>\n",
       "            </tr>\n",
       "            <tr>\n",
       "                        <th id=\"T_f287dd52_f8bb_11e9_804d_a0510b7c6987level0_row1\" class=\"row_heading level0 row1\" >145</th>\n",
       "                        <th id=\"T_f287dd52_f8bb_11e9_804d_a0510b7c6987level1_row1\" class=\"row_heading level1 row1\" >Fiery Glass Crusader</th>\n",
       "                        <td id=\"T_f287dd52_f8bb_11e9_804d_a0510b7c6987row1_col0\" class=\"data row1 col0\" >9</td>\n",
       "                        <td id=\"T_f287dd52_f8bb_11e9_804d_a0510b7c6987row1_col1\" class=\"data row1 col1\" >$4.58</td>\n",
       "                        <td id=\"T_f287dd52_f8bb_11e9_804d_a0510b7c6987row1_col2\" class=\"data row1 col2\" >$41.22</td>\n",
       "            </tr>\n",
       "            <tr>\n",
       "                        <th id=\"T_f287dd52_f8bb_11e9_804d_a0510b7c6987level0_row2\" class=\"row_heading level0 row2\" >108</th>\n",
       "                        <th id=\"T_f287dd52_f8bb_11e9_804d_a0510b7c6987level1_row2\" class=\"row_heading level1 row2\" >Extraction, Quickblade Of Trembling Hands</th>\n",
       "                        <td id=\"T_f287dd52_f8bb_11e9_804d_a0510b7c6987row2_col0\" class=\"data row2 col0\" >9</td>\n",
       "                        <td id=\"T_f287dd52_f8bb_11e9_804d_a0510b7c6987row2_col1\" class=\"data row2 col1\" >$3.53</td>\n",
       "                        <td id=\"T_f287dd52_f8bb_11e9_804d_a0510b7c6987row2_col2\" class=\"data row2 col2\" >$31.77</td>\n",
       "            </tr>\n",
       "            <tr>\n",
       "                        <th id=\"T_f287dd52_f8bb_11e9_804d_a0510b7c6987level0_row3\" class=\"row_heading level0 row3\" >82</th>\n",
       "                        <th id=\"T_f287dd52_f8bb_11e9_804d_a0510b7c6987level1_row3\" class=\"row_heading level1 row3\" >Nirvana</th>\n",
       "                        <td id=\"T_f287dd52_f8bb_11e9_804d_a0510b7c6987row3_col0\" class=\"data row3 col0\" >9</td>\n",
       "                        <td id=\"T_f287dd52_f8bb_11e9_804d_a0510b7c6987row3_col1\" class=\"data row3 col1\" >$4.90</td>\n",
       "                        <td id=\"T_f287dd52_f8bb_11e9_804d_a0510b7c6987row3_col2\" class=\"data row3 col2\" >$44.10</td>\n",
       "            </tr>\n",
       "            <tr>\n",
       "                        <th id=\"T_f287dd52_f8bb_11e9_804d_a0510b7c6987level0_row4\" class=\"row_heading level0 row4\" >19</th>\n",
       "                        <th id=\"T_f287dd52_f8bb_11e9_804d_a0510b7c6987level1_row4\" class=\"row_heading level1 row4\" >Pursuit, Cudgel of Necromancy</th>\n",
       "                        <td id=\"T_f287dd52_f8bb_11e9_804d_a0510b7c6987row4_col0\" class=\"data row4 col0\" >8</td>\n",
       "                        <td id=\"T_f287dd52_f8bb_11e9_804d_a0510b7c6987row4_col1\" class=\"data row4 col1\" >$1.02</td>\n",
       "                        <td id=\"T_f287dd52_f8bb_11e9_804d_a0510b7c6987row4_col2\" class=\"data row4 col2\" >$8.16</td>\n",
       "            </tr>\n",
       "    </tbody></table>"
      ],
      "text/plain": [
       "<pandas.io.formats.style.Styler at 0x226ef031470>"
      ]
     },
     "execution_count": 20,
     "metadata": {},
     "output_type": "execute_result"
    }
   ],
   "source": [
    "#Most popular Items\n",
    "items = data_df[[\"Item ID\", \"Item Name\", \"Price\"]]\n",
    "grouped_item = data_df.groupby([\"Item ID\", \"Item Name\"])\n",
    "purchase_count = grouped_item[\"Price\"].count()\n",
    "total_value = grouped_item[\"Price\"].sum()\n",
    "item_price = total_value / purchase_count\n",
    "popular_df = pd.DataFrame({\"Purchase Count\": purchase_count,\n",
    "                          \"Item Price\": item_price,\n",
    "                          \"Total Purchase Value\": total_value})\n",
    "most_popular_df = popular_df.sort_values(\"Purchase Count\", ascending=False)\n",
    "\n",
    "most_popular_df.head().style.format({\"Item Price\": \"${:,.2f}\",\n",
    "                        \"Total Purchase Value\": '${:,.2f}'})\n",
    "\n",
    "\n"
   ]
  },
  {
   "cell_type": "code",
   "execution_count": 21,
   "metadata": {},
   "outputs": [
    {
     "data": {
      "text/html": [
       "<style  type=\"text/css\" >\n",
       "</style><table id=\"T_f28d8dd0_f8bb_11e9_934f_a0510b7c6987\" ><thead>    <tr>        <th class=\"blank\" ></th>        <th class=\"blank level0\" ></th>        <th class=\"col_heading level0 col0\" >Purchase Count</th>        <th class=\"col_heading level0 col1\" >Item Price</th>        <th class=\"col_heading level0 col2\" >Total Purchase Value</th>    </tr>    <tr>        <th class=\"index_name level0\" >Item ID</th>        <th class=\"index_name level1\" >Item Name</th>        <th class=\"blank\" ></th>        <th class=\"blank\" ></th>        <th class=\"blank\" ></th>    </tr></thead><tbody>\n",
       "                <tr>\n",
       "                        <th id=\"T_f28d8dd0_f8bb_11e9_934f_a0510b7c6987level0_row0\" class=\"row_heading level0 row0\" >178</th>\n",
       "                        <th id=\"T_f28d8dd0_f8bb_11e9_934f_a0510b7c6987level1_row0\" class=\"row_heading level1 row0\" >Oathbreaker, Last Hope of the Breaking Storm</th>\n",
       "                        <td id=\"T_f28d8dd0_f8bb_11e9_934f_a0510b7c6987row0_col0\" class=\"data row0 col0\" >12</td>\n",
       "                        <td id=\"T_f28d8dd0_f8bb_11e9_934f_a0510b7c6987row0_col1\" class=\"data row0 col1\" >$4.23</td>\n",
       "                        <td id=\"T_f28d8dd0_f8bb_11e9_934f_a0510b7c6987row0_col2\" class=\"data row0 col2\" >$50.76</td>\n",
       "            </tr>\n",
       "            <tr>\n",
       "                        <th id=\"T_f28d8dd0_f8bb_11e9_934f_a0510b7c6987level0_row1\" class=\"row_heading level0 row1\" >82</th>\n",
       "                        <th id=\"T_f28d8dd0_f8bb_11e9_934f_a0510b7c6987level1_row1\" class=\"row_heading level1 row1\" >Nirvana</th>\n",
       "                        <td id=\"T_f28d8dd0_f8bb_11e9_934f_a0510b7c6987row1_col0\" class=\"data row1 col0\" >9</td>\n",
       "                        <td id=\"T_f28d8dd0_f8bb_11e9_934f_a0510b7c6987row1_col1\" class=\"data row1 col1\" >$4.90</td>\n",
       "                        <td id=\"T_f28d8dd0_f8bb_11e9_934f_a0510b7c6987row1_col2\" class=\"data row1 col2\" >$44.10</td>\n",
       "            </tr>\n",
       "            <tr>\n",
       "                        <th id=\"T_f28d8dd0_f8bb_11e9_934f_a0510b7c6987level0_row2\" class=\"row_heading level0 row2\" >145</th>\n",
       "                        <th id=\"T_f28d8dd0_f8bb_11e9_934f_a0510b7c6987level1_row2\" class=\"row_heading level1 row2\" >Fiery Glass Crusader</th>\n",
       "                        <td id=\"T_f28d8dd0_f8bb_11e9_934f_a0510b7c6987row2_col0\" class=\"data row2 col0\" >9</td>\n",
       "                        <td id=\"T_f28d8dd0_f8bb_11e9_934f_a0510b7c6987row2_col1\" class=\"data row2 col1\" >$4.58</td>\n",
       "                        <td id=\"T_f28d8dd0_f8bb_11e9_934f_a0510b7c6987row2_col2\" class=\"data row2 col2\" >$41.22</td>\n",
       "            </tr>\n",
       "            <tr>\n",
       "                        <th id=\"T_f28d8dd0_f8bb_11e9_934f_a0510b7c6987level0_row3\" class=\"row_heading level0 row3\" >92</th>\n",
       "                        <th id=\"T_f28d8dd0_f8bb_11e9_934f_a0510b7c6987level1_row3\" class=\"row_heading level1 row3\" >Final Critic</th>\n",
       "                        <td id=\"T_f28d8dd0_f8bb_11e9_934f_a0510b7c6987row3_col0\" class=\"data row3 col0\" >8</td>\n",
       "                        <td id=\"T_f28d8dd0_f8bb_11e9_934f_a0510b7c6987row3_col1\" class=\"data row3 col1\" >$4.88</td>\n",
       "                        <td id=\"T_f28d8dd0_f8bb_11e9_934f_a0510b7c6987row3_col2\" class=\"data row3 col2\" >$39.04</td>\n",
       "            </tr>\n",
       "            <tr>\n",
       "                        <th id=\"T_f28d8dd0_f8bb_11e9_934f_a0510b7c6987level0_row4\" class=\"row_heading level0 row4\" >103</th>\n",
       "                        <th id=\"T_f28d8dd0_f8bb_11e9_934f_a0510b7c6987level1_row4\" class=\"row_heading level1 row4\" >Singed Scalpel</th>\n",
       "                        <td id=\"T_f28d8dd0_f8bb_11e9_934f_a0510b7c6987row4_col0\" class=\"data row4 col0\" >8</td>\n",
       "                        <td id=\"T_f28d8dd0_f8bb_11e9_934f_a0510b7c6987row4_col1\" class=\"data row4 col1\" >$4.35</td>\n",
       "                        <td id=\"T_f28d8dd0_f8bb_11e9_934f_a0510b7c6987row4_col2\" class=\"data row4 col2\" >$34.80</td>\n",
       "            </tr>\n",
       "    </tbody></table>"
      ],
      "text/plain": [
       "<pandas.io.formats.style.Styler at 0x226ef055cf8>"
      ]
     },
     "execution_count": 21,
     "metadata": {},
     "output_type": "execute_result"
    }
   ],
   "source": [
    "# Most profitable \n",
    "items = data_df[[\"Item ID\", \"Item Name\", \"Price\"]]\n",
    "grouped_item = data_df.groupby([\"Item ID\", \"Item Name\"])\n",
    "purchase_count = grouped_item[\"Price\"].count()\n",
    "total_value = grouped_item[\"Price\"].sum()\n",
    "item_price = total_value / purchase_count\n",
    "popular_df = pd.DataFrame({\"Purchase Count\": purchase_count,\n",
    "                          \"Item Price\": item_price,\n",
    "                          \"Total Purchase Value\": total_value})\n",
    "most_profit_df = popular_df.sort_values(\"Total Purchase Value\", ascending=False)\n",
    "\n",
    "\n",
    "most_profit_df.head().style.format({\"Item Price\": \"${:,.2f}\",\n",
    "                        \"Total Purchase Value\": '${:,.2f}'})\n",
    "\n",
    "\n"
   ]
  },
  {
   "cell_type": "code",
   "execution_count": null,
   "metadata": {},
   "outputs": [],
   "source": []
  }
 ],
 "metadata": {
  "kernelspec": {
   "display_name": "Python 3",
   "language": "python",
   "name": "python3"
  },
  "language_info": {
   "codemirror_mode": {
    "name": "ipython",
    "version": 3
   },
   "file_extension": ".py",
   "mimetype": "text/x-python",
   "name": "python",
   "nbconvert_exporter": "python",
   "pygments_lexer": "ipython3",
   "version": "3.7.3"
  }
 },
 "nbformat": 4,
 "nbformat_minor": 2
}
